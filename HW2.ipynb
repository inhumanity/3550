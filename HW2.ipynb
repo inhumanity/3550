{
 "cells": [
  {
   "cell_type": "code",
   "execution_count": 14,
   "id": "8ceeaabb-a97a-456c-9213-4b12bf9ad0d1",
   "metadata": {},
   "outputs": [
    {
     "name": "stdout",
     "output_type": "stream",
     "text": [
      "<class 'pandas.core.frame.DataFrame'>\n",
      "RangeIndex: 200 entries, 0 to 199\n",
      "Data columns (total 5 columns):\n",
      " #   Column      Non-Null Count  Dtype  \n",
      "---  ------      --------------  -----  \n",
      " 0   Unnamed: 0  200 non-null    int64  \n",
      " 1   TV          200 non-null    float64\n",
      " 2   radio       200 non-null    float64\n",
      " 3   newspaper   200 non-null    float64\n",
      " 4   sales       200 non-null    float64\n",
      "dtypes: float64(4), int64(1)\n",
      "memory usage: 7.9 KB\n",
      "TV model coefficients: [0.04753664]\n",
      "TV model intercept: 7.032593549127697\n",
      "R squared: 0.611875050850071\n",
      "\n",
      "Radio model coefficients: [0.20249578]\n",
      "Radio model intercept: 9.311638095158282\n",
      "R squared: 0.33203245544529525\n",
      "\n",
      "Newspaper model coefficients:[0.0546931]\n",
      "Newspaper model intercept: 12.35140706927816\n",
      "R squared: 0.05212044544430505\n",
      "\n"
     ]
    }
   ],
   "source": [
    "import pandas as pd\n",
    "from sklearn.linear_model import LinearRegression\n",
    "from sklearn.metrics import mean_squared_error, r2_score\n",
    "\n",
    "#importing dataset\n",
    "df = pd.read_csv('Advertising.csv')\n",
    "\n",
    "#basic info\n",
    "df.info()\n",
    "df.head()\n",
    "\n",
    "#splitting into predictors and response\n",
    "X_tv = df[['TV']]\n",
    "X_radio = df[['radio']]\n",
    "X_newspaper = df[['newspaper']]\n",
    "Y = df['sales']\n",
    "\n",
    "#model creation and fitting\n",
    "tv_model = LinearRegression().fit(X_tv, Y)\n",
    "radio_model = LinearRegression().fit(X_radio, Y)\n",
    "newspaper_model = LinearRegression().fit(X_newspaper, Y)\n",
    "\n",
    "#rsquared\n",
    "tv_r = tv_model.score(X_tv, Y)\n",
    "radio_r = radio_model.score(X_radio, Y)\n",
    "newspaper_r = newspaper_model.score(X_newspaper, Y)\n",
    "\n",
    "print(f\"TV model coefficients: {tv_model.coef_}\")\n",
    "print(f\"TV model intercept: {tv_model.intercept_}\")\n",
    "print(f\"R squared: {tv_r}\\n\")\n",
    "\n",
    "print(f\"Radio model coefficients: {radio_model.coef_}\")\n",
    "print(f\"Radio model intercept: {radio_model.intercept_}\")\n",
    "print(f\"R squared: {radio_r}\\n\")\n",
    "\n",
    "print(f\"Newspaper model coefficients:{newspaper_model.coef_}\")\n",
    "print(f\"Newspaper model intercept: {newspaper_model.intercept_}\")\n",
    "print(f\"R squared: {newspaper_r}\\n\")"
   ]
  }
 ],
 "metadata": {
  "kernelspec": {
   "display_name": "Python 3 (ipykernel)",
   "language": "python",
   "name": "python3"
  },
  "language_info": {
   "codemirror_mode": {
    "name": "ipython",
    "version": 3
   },
   "file_extension": ".py",
   "mimetype": "text/x-python",
   "name": "python",
   "nbconvert_exporter": "python",
   "pygments_lexer": "ipython3",
   "version": "3.12.5"
  }
 },
 "nbformat": 4,
 "nbformat_minor": 5
}
